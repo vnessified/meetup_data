{
 "cells": [
  {
   "cell_type": "code",
   "execution_count": 1,
   "metadata": {
    "collapsed": true
   },
   "outputs": [],
   "source": [
    "import datetime\n",
    "import json\n",
    "# from pyspark import SparkContext\n",
    "# from pyspark.sql import SparkSession\n",
    "from pyspark.ml.feature import RegexTokenizer, HashingTF, IDF, Tokenizer\n",
    "from pyspark.ml import Pipeline\n",
    "from pyspark.ml.classification import RandomForestClassifier\n"
   ]
  },
  {
   "cell_type": "code",
   "execution_count": 2,
   "metadata": {
    "collapsed": true
   },
   "outputs": [],
   "source": [
    "events = sc.textFile('s3a://meetupevents/fix2017/*/*/*/*')"
   ]
  },
  {
   "cell_type": "code",
   "execution_count": 3,
   "metadata": {},
   "outputs": [
    {
     "data": {
      "text/plain": [
       "[u'{\"utc_offset\":7200000,\"venue\":{\"zip\":\"meetup136\",\"country\":\"nl\",\"city\":\"Meppel\",\"address_1\":\"Tuinweg\",\"name\":\"Plek van Erkenning\",\"lon\":6.188538,\"lat\":52.680996},\"rsvp_limit\":0,\"venue_visibility\":\"public\",\"visibility\":\"public\",\"maybe_rsvp_count\":0,\"description\":\"<p>Kies voor een Reiki behandeling of een intuitieve healing. Ik help je graag op je pad naar een leven waarin je alleen maar hoeft te volgen waar je blij van wordt. Soms betekent dit eerst het loslaten van oude patronen of het genezen van (oude) wonden. Energetische healing is hierbij een stukje van de puzzel en zal je precies geven wat jij op dit moment kan gebruiken. Je kan een healing boeken op elke dag van de week. Dag of avond. Ik heb een locatie in IJhorst en Meppel. Daarnaast ben ik flexibel en kom ik ook graag bij jou langs (reiskosten in overleg).<\\\\/p> \\\\n<p>Een behandeling is \\u20ac30 Inclusief kopje thee en wat lekkers. De duur van een healing is gemiddeld een uur. Je kan zelf een tijdstip uitkiezen. Trek daarnaast wat tijd uit voor jezelf om even bij te komen en zodat we kunnen voor- en napraten als je dat fijn vindt. Liefs Minette<\\\\/p>\",\"mtime\":1492600425624,\"event_url\":\"https:\\\\/\\\\/www.meetup.com\\\\/Individuele-Healing\\\\/events\\\\/239323240\\\\/\",\"yes_rsvp_count\":1,\"duration\":43200000,\"payment_required\":\"0\",\"name\":\"Individuele healing\",\"id\":\"239323240\",\"time\":1493280000000,\"group\":{\"join_mode\":\"open\",\"country\":\"nl\",\"city\":\"Meppel\",\"name\":\"Individuele Healing\",\"group_lon\":6.19,\"id\":23339124,\"urlname\":\"Individuele-Healing\",\"category\":{\"name\":\"new age\\\\/spirituality\",\"id\":22,\"shortname\":\"new-age-spirituality\"},\"group_lat\":52.7},\"status\":\"upcoming\"}',\n",
       " u'{\"utc_offset\":19800000,\"rsvp_limit\":0,\"venue_visibility\":\"members\",\"visibility\":\"public\",\"maybe_rsvp_count\":0,\"description\":\"<p>Internet of Things is changing the world of information technology. Every business is impacted by IoT. I have been conducting workshops on IoT for more than two years now. There is more to IoT than what most workshops offer - in terms of the strategic implications of IoT. This webinar will touch upon aspects of IoT that are strategic in nature and impact the business\\\\/ career growth. I invite you to this webinar.<\\\\/p> \\\\n<p>*Visit my website - www.iotworkshops.in for more details*<\\\\/p>\",\"mtime\":1492600430867,\"event_url\":\"https:\\\\/\\\\/www.meetup.com\\\\/Digital-Dojo-The-Digital-Academy\\\\/events\\\\/239035165\\\\/\",\"yes_rsvp_count\":11,\"duration\":5400000,\"payment_required\":\"0\",\"name\":\"Free Webinar - Strategic IoT for Business Growth & Job Creation - 2 May 2017\",\"id\":\"239035165\",\"time\":1493717400000,\"group\":{\"join_mode\":\"open\",\"country\":\"in\",\"city\":\"Mumbai\",\"name\":\"Digital Dojo - The Digital Academy\",\"group_lon\":72.82,\"id\":23191189,\"urlname\":\"Digital-Dojo-The-Digital-Academy\",\"category\":{\"name\":\"career\\\\/business\",\"id\":2,\"shortname\":\"career-business\"},\"group_lat\":18.96},\"status\":\"upcoming\"}']"
      ]
     },
     "execution_count": 3,
     "metadata": {},
     "output_type": "execute_result"
    }
   ],
   "source": [
    "events.take(2)"
   ]
  },
  {
   "cell_type": "code",
   "execution_count": 4,
   "metadata": {
    "collapsed": true
   },
   "outputs": [],
   "source": [
    "def outdoors_vs_tech(event_stream):\n",
    "    try:\n",
    "        event = json.loads(event_stream)\n",
    "        description = event.get('description')\n",
    "        group_cat = event.get('group')\n",
    "        if group_cat:\n",
    "            group_cat = group_cat.get('category')\n",
    "            \n",
    "\n",
    "        if group_cat == 'outdoors/adventure':\n",
    "            return [description, 0]\n",
    "        elif group_cat == 'tech':\n",
    "            return [description, 1]\n",
    "        else:\n",
    "            pass\n",
    "    except ValueError:\n",
    "        pass"
   ]
  },
  {
   "cell_type": "code",
   "execution_count": 5,
   "metadata": {
    "collapsed": true
   },
   "outputs": [],
   "source": [
    "def status_binarizer(event_stream):\n",
    "    try:\n",
    "        event = json.loads(event_stream)\n",
    "        description = event.get('description')\n",
    "        status = event.get('status')            \n",
    "\n",
    "        if status == 'upcoming':\n",
    "            return [description, 0]\n",
    "        elif status == 'suggested':\n",
    "            return [description, 1]\n",
    "        else:\n",
    "            pass\n",
    "    except ValueError:\n",
    "        pass"
   ]
  },
  {
   "cell_type": "code",
   "execution_count": 40,
   "metadata": {},
   "outputs": [],
   "source": [
    "events_df = events.map(status_binarizer).filter(\\\n",
    "    lambda x: x is not None).toDF(['description', 'status']).cache()"
   ]
  },
  {
   "cell_type": "code",
   "execution_count": 8,
   "metadata": {},
   "outputs": [],
   "source": [
    "# normal_tokenizer = Tokenizer(inputCol=\"description\", outputCol=\"words\")\n",
    "tokenizer = RegexTokenizer(inputCol=\"description\", outputCol=\"words\", pattern='\\s+|[,.\\\"]')\n",
    "hashingTF = HashingTF(inputCol=\"words\", outputCol=\"rawFeatures\", numFeatures=200)\n",
    "idf = IDF(inputCol=\"rawFeatures\", outputCol=\"features\")\n",
    "RFC = RandomForestClassifier(labelCol=\"status\", featuresCol=\"features\", numTrees=10)\n",
    "\n",
    "pipeline = Pipeline(stages=[\\\n",
    "                tokenizer,\n",
    "                hashingTF,\n",
    "                idf,\n",
    "                RFC])"
   ]
  },
  {
   "cell_type": "code",
   "execution_count": 9,
   "metadata": {},
   "outputs": [
    {
     "data": {
      "text/plain": [
       "[RegexTokenizer_464884df1fdfcab51200,\n",
       " HashingTF_42169f9a275ed2d2d136,\n",
       " IDF_4178a2d59bcfa3756654,\n",
       " RandomForestClassifier_4e4b9e9640dd195834d4]"
      ]
     },
     "execution_count": 9,
     "metadata": {},
     "output_type": "execute_result"
    }
   ],
   "source": [
    "pipeline.getStages()"
   ]
  },
  {
   "cell_type": "code",
   "execution_count": 10,
   "metadata": {
    "collapsed": true
   },
   "outputs": [],
   "source": [
    "events_df_train, events_df_test = events_df.randomSplit([0.7, 0.3], seed=123)"
   ]
  },
  {
   "cell_type": "code",
   "execution_count": 13,
   "metadata": {},
   "outputs": [
    {
     "data": {
      "text/plain": [
       "[Row(description=None, status=0)]"
      ]
     },
     "execution_count": 13,
     "metadata": {},
     "output_type": "execute_result"
    }
   ],
   "source": [
    "events_df_train.take(1)"
   ]
  },
  {
   "cell_type": "code",
   "execution_count": 27,
   "metadata": {},
   "outputs": [],
   "source": [
    "model = normal_tokenizer.transform(events_df_train) "
   ]
  },
  {
   "cell_type": "code",
   "execution_count": 17,
   "metadata": {},
   "outputs": [
    {
     "data": {
      "text/plain": [
       "[Row(description=None, status=0),\n",
       " Row(description=None, status=0),\n",
       " Row(description=None, status=0),\n",
       " Row(description=None, status=0),\n",
       " Row(description=None, status=0),\n",
       " Row(description=None, status=0),\n",
       " Row(description=u'<a href=\"https://www.facebook.com/hellskitchenbar/photos/pb.96795601960.-2207520000.1492599801./10154472259391961/?type=3\"></a>\\n<p><a href=\"https://www.facebook.com/hellskitchenbar/photos/pb.96795601960.-2207520000.1492599801./10154472259391961/?type=3\">Join us for a comedy show with High Energy Tyrone Davis and other special Guests</a></p>\\n<p><a href=\"https://www.facebook.com/hellskitchenbar/photos/pb.96795601960.-2207520000.1492599801./10154472259391961/?type=3\">Event is free!<br></a></p> \\n<p>Visit our page at </p> \\n<p><a href=\"https://www.facebook.com/comedyinhell/\">https://www.facebook.com/comedyinhell/</a></p>\\n<p> Tyrone Davis\\u2019s website: </p>\\n<p><a href=\"http://tyroned.com/\">http://tyroned.com/</a></p> \\n<br>', status=0),\n",
       " Row(description=u'<a href=\"https://www.facebook.com/hellskitchenbar/photos/pb.96795601960.-2207520000.1492599801./10154472259391961/?type=3\"></a>\\n<p><a href=\"https://www.facebook.com/hellskitchenbar/photos/pb.96795601960.-2207520000.1492599801./10154472259391961/?type=3\">Join us for a comedy show with High Energy Tyrone Davis and other special Guests</a></p>\\n<p><br></p>', status=0),\n",
       " Row(description=u'<p><b>Google Cloud Next 17\\' Extended</b></p>\\n<p>Vi tar for oss enkelte utvalgte temaer fra \\xe5rets <i>Cloud Next 17\\'</i>&nbsp;med et fokus p\\xe5 software utvikling.</p>\\n<p><br></p>\\n<p><b>Agenda:</b></p>\\n<p>\\u2022 Rask intro av Cloud Next 17\\'</p>\\n<p>\\u2022 Foresl\\xe5tte codelabs:</p>\\n<blockquote>\\n <p><span><i>\\u2022&nbsp;</i>Firebase Web Codelab:</span><i>&nbsp;Lage en Nodejs webapp der vi implementerer og deployer en chat klient ved bruk av&nbsp;<a href=\"https://firebase.google.com/\">Firebase</a>.</i></p>\\n <p>\\u2022 \"Building a gRPC service with Node.js\"<i><br></i></p>\\n <p>\\u2022 \"Build a Node.js Web Appp using Google Cloud Platform\"<br></p>\\n</blockquote>\\n<blockquote>\\n <p><i><br></i></p>\\n</blockquote>\\n<p><span><b>NB: </b>Ta med laptop + str\\xf8mforsyning.&nbsp;</span></p>', status=0),\n",
       " Row(description=u'<p><b>River City Toastmasters Club</b> (Formerly Arlington Toastmasters)&nbsp;provides a supportive and positive learning experience in which members are empowered to develop communication and leadership skills, resulting in greater self-confidence and personal growth, and we have fun doing it.</p> \\n<p>Open to all interested parties looking to improve their public speaking skills.&nbsp;</p> \\n<p>Questions? Call: <span>(904)[masked]</span></p> \\n<p>Like us on Facebook!</p> \\n<p><span>https://www.facebook.com/pages/River-City-Toastmasters/91897633315<br> </span></p> \\n<p><span>Check out our website:&nbsp;&nbsp;</span><a href=\"http://rivercityjax.toastmastersclubs.org/\">http://rivercityjax.toastmastersclubs.org/</a><br> </p> \\n<p>For further information, contact:: Robert (Bob) Sears<br> <br> <a href=\"mailto:[masked]\">[masked]</a>&nbsp;::&nbsp;</p> \\n<p>OPEN TO THE PUBLIC ::&nbsp;Anyone can attend</p>', status=0),\n",
       " Row(description=u'<p><br></p>\\n<p><img src=\"https://secure.meetupstatic.com/photos/event/8/a/5/5/600_460175413.jpeg\"></p>\\n<p><br></p>\\n<p><br></p>\\n<p>Details will update soon....</p>', status=0),\n",
       " Row(description=u\"<p><i>Let's go deeper into functional programming with Clojure.</i></p> \\n<p>We will look at more advanced FP aspects, and how to apply it in Clojure. <br><span>And we will start looking at the basics of macros.</span></p> \\n<p>Perhaps I will wrap it up in an interesting little project. &nbsp;;-)<br><br></p> \\n<p><b>## Where</b></p> \\n<p>Would someone like to host this event?&nbsp; <br> <br></p> \\n<p><b>## Food</b></p> \\n<p>Yes, of course!&nbsp; <br> <br></p> \\n<p><b>## Prerequisites</b></p> \\n<p>Laptop. &nbsp;Perhaps some basic understanding of Clojure? <br>Else should we do a quick Clojure intro 45 minutes before the main event?</p>\", status=0),\n",
       " Row(description=u'<p><img src=\"https://secure.meetupstatic.com/photos/event/8/9/b/c/600_460175260.jpeg\"></p> \\n<p>The Pee Dee Group of the SC Sierra Club will conduct an Outing on Saturday, May 6, 2017, from 9am-11am at the Carolina Sandhills National Wildlife Refugee located in McBee, SC. We will meet at Lake Bee Recreation Area on SC Hwy 145 and carpool to the Oxpen Area. We will walk approximately two miles around Oxpen Lake and observe the native plants and wildlife. <strong>This walk is rated: EASY.</strong> We will then return to Lake Bee and have a picnic lunch. Each participant should bring their own lunch.</p> \\n<p>This Outing is for adults and young adults. <strong>Please no small</strong> <strong>children.</strong> <em><strong>Group size is limited to 12.</strong></em> The walk will be at an easy pace. Participants should wear sturdy walking shoes, bring sun screen, insect repellant, and water. Hats are recommended.</p> \\n<p>Brochures will be provided that will help us to identify \"Common Flowing Plants\" and \"Butterflies and Dragonflies\" on our walk. <strong><em>Please RSVP to this Meet-up and by replying</em> <em>to</em></strong><em> <strong>this e-mail:</strong></em> <strong>([masked]) or call (803)[masked] (Deborah Adams).</strong></p> \\n<p><strong>Here\\'s is an article from the Charlotte Observer that provides a good overview of the refuge: (<a href=\"http://www.charloteobserver.com/living/travel/article70569432.html\">http://www.charloteobserver.com/living/travel/article70569432.html</a>) </strong></p> \\n<p><strong><em>Please:</em> NO PETS.</strong></p> \\n<p><strong>LIMIT: 12</strong></p> \\n<p><strong>For more Outings details contact: Deborah Adams (OL)[masked] (<a href=\"mailto:[masked]\">[masked]</a>) </strong></p>', status=0),\n",
       " Row(description=u'<p><span>Hi Everyone,&nbsp;</span><br></p>\\n<p><span>The Comedy Festival is slowly drawing to a close, so come an join us for some laughter and good vibes this Friday night in St Kilda.&nbsp;</span></p>\\n<p><span>Be entertained by 20 of this city\\u2019s finest up-and-coming comedic talent as they take to the stage and share an Open Mic with Melbourne\\'s very own purveyors of comedy\\u2026 <b>Andrew Iles</b> \\u2013 <b>Evan Hocking</b> \\u2013 <b>Matt Alsbury</b> along with the very talented MC and Host,<b> Ben McCarthy</b>...</span></p>\\n<p><span><b>There are a number of 30% discount \\'General Entry\\' tickets available (on-line purchase only). Contact your favourite comedian for your discount code-word.... or send your request to... <a href=\"http://www.bluafterglow.com/contact\">www.bluafterglow.com/contact</a>&nbsp;</b><br></span></p> \\n<p>Please book your tickets at: <a href=\"https://www.trybooking.com/book/event?eid=271335\" class=\"linkified\">https://www.trybooking.com/271335</a></p> \\n<p>Doors - Bar - Lounge - Courtyard: from 8:30pm sharp</p>\\n<p>Show-room &amp; Stage:from 9:00pm sharp</p>\\n<p>Arrive early, grab yourself a bevie from the bar and socialise in the lounge or courtyard with friends before the show.<br></p>\\n<p><br></p>', status=0),\n",
       " Row(description=u'<p><span>Hi Everyone,&nbsp;</span><br></p>\\n<p><span>The Comedy Festival is slowly drawing to a close, so come an join us for some laughter and good vibes this Friday night in St Kilda.&nbsp;</span></p>\\n<p><span>Be entertained by 20 of this city\\u2019s finest up-and-coming comedic talent as they take to the stage and share an Open Mic with Melbourne\\'s very own purveyors of comedy\\u2026 <b>Andrew Iles</b> \\u2013 <b>Evan Hocking</b> \\u2013 <b>Matt Alsbury</b> along with the very talented MC and Host,<b> Ben McCarthy</b>...</span></p>\\n<p><span><b>There are a number of 30% discount \\'General Entry\\' tickets available (on-line purchase only). Contact your favourite comedian for your discount code-word.... or send your request to... <a href=\"http://www.bluafterglow.com/contact\">www.bluafterglow.com/contact</a>&nbsp;</b><br></span></p> \\n<p>Please book your tickets at: <a href=\"https://www.trybooking.com/book/event?eid=271335\" class=\"linkified\">https://www.trybooking.com/271335</a></p> \\n<p>Doors - Bar - Lounge - Courtyard: from 8:30pm sharp</p>\\n<p>Show-room &amp; Stage:from 9:00pm sharp</p>\\n<p>Arrive early, grab yourself a bevie from the bar and socialise in the lounge or courtyard with friends before the show.<br></p>\\n<p><br></p>', status=0)]"
      ]
     },
     "execution_count": 17,
     "metadata": {},
     "output_type": "execute_result"
    }
   ],
   "source": [
    "events_df_test.take(15)"
   ]
  },
  {
   "cell_type": "code",
   "execution_count": null,
   "metadata": {
    "collapsed": true
   },
   "outputs": [],
   "source": []
  }
 ],
 "metadata": {
  "kernelspec": {
   "display_name": "Python 2",
   "language": "python",
   "name": "python2"
  },
  "language_info": {
   "codemirror_mode": {
    "name": "ipython",
    "version": 2
   },
   "file_extension": ".py",
   "mimetype": "text/x-python",
   "name": "python",
   "nbconvert_exporter": "python",
   "pygments_lexer": "ipython2",
   "version": "2.7.12"
  }
 },
 "nbformat": 4,
 "nbformat_minor": 2
}
